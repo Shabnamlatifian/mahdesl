{
  "nbformat": 4,
  "nbformat_minor": 0,
  "metadata": {
    "accelerator": "GPU",
    "colab": {
      "name": "deepPRC_GFN_UCM_PAPER_APPSCI.ipynb",
      "provenance": [],
      "collapsed_sections": [],
      "include_colab_link": true
    },
    "environment": {
      "name": "tf2-2-2-gpu.2-2.m50",
      "type": "gcloud",
      "uri": "gcr.io/deeplearning-platform-release/tf2-2-2-gpu.2-2:m50"
    },
    "kernelspec": {
      "display_name": "Python 3",
      "language": "python",
      "name": "python3"
    },
    "language_info": {
      "codemirror_mode": {
        "name": "ipython",
        "version": 3
      },
      "file_extension": ".py",
      "mimetype": "text/x-python",
      "name": "python",
      "nbconvert_exporter": "python",
      "pygments_lexer": "ipython3",
      "version": "3.8.5"
    }
  },
  "cells": [
    {
      "cell_type": "markdown",
      "metadata": {
        "id": "view-in-github",
        "colab_type": "text"
      },
      "source": [
        "<a href=\"https://colab.research.google.com/github/jlherraiz/deepPRC/blob/main/deepPRC_GFN_UCM_PAPER_APPSCI.ipynb\" target=\"_parent\"><img src=\"https://colab.research.google.com/assets/colab-badge.svg\" alt=\"Open In Colab\"/></a>"
      ]
    },
    {
      "cell_type": "markdown",
      "metadata": {
        "id": "_xnMOsbqHz61"
      },
      "source": [
        "# deepPRC - POSITRON RANGE CORRECTION WITH Deep Learning\n",
        "Code from the paper \"Deep-Learning Based Positron Range Correction\" Applied Sciences (Special Issue - PET Imaging with Deep Learning) https://www.mdpi.com/journal/applsci/special_issues/pet_imaging\n",
        "### J.L.Herraiz et al. GFN - UCM - 2020"
      ]
    },
    {
      "cell_type": "markdown",
      "metadata": {
        "id": "8mUq2VfgxFu2"
      },
      "source": [
        "## STEP 0 ) Install all required libraries "
      ]
    },
    {
      "cell_type": "code",
      "metadata": {
        "id": "BPGCniM1xFu3"
      },
      "source": [
        "!pip install -q opencv-python\n",
        "!pip install -q keras-unet"
      ],
      "execution_count": null,
      "outputs": []
    },
    {
      "cell_type": "markdown",
      "metadata": {
        "id": "e1_Y75QXJS6h"
      },
      "source": [
        "## STEP 1 ) Load Libraries"
      ]
    },
    {
      "cell_type": "code",
      "metadata": {
        "id": "GJtjiHsexFu3"
      },
      "source": [
        "import tensorflow as tf\n",
        "tf.version.VERSION\n",
        "import numpy as np\n",
        "import os\n",
        "import time\n",
        "import matplotlib.pyplot as plt\n",
        "from IPython.display import clear_output\n",
        "import cv2\n",
        "import sklearn.model_selection as sk"
      ],
      "execution_count": null,
      "outputs": []
    },
    {
      "cell_type": "markdown",
      "metadata": {
        "id": "f70qqaKRxFu4"
      },
      "source": [
        "## CHECK GPU"
      ]
    },
    {
      "cell_type": "code",
      "metadata": {
        "colab": {
          "base_uri": "https://localhost:8080/"
        },
        "id": "2e2VgE57xFu4",
        "outputId": "48891dbb-8035-4462-e4b5-404f5943296a"
      },
      "source": [
        "tf.config.list_physical_devices('GPU')"
      ],
      "execution_count": null,
      "outputs": [
        {
          "output_type": "execute_result",
          "data": {
            "text/plain": [
              "[PhysicalDevice(name='/physical_device:GPU:0', device_type='GPU')]"
            ]
          },
          "metadata": {
            "tags": []
          },
          "execution_count": 3
        }
      ]
    },
    {
      "cell_type": "markdown",
      "metadata": {
        "id": "Bf5UBLu3HKFf"
      },
      "source": [
        "## IMAGE PARAMETERS"
      ]
    },
    {
      "cell_type": "code",
      "metadata": {
        "id": "qAGoTCoB8mk1"
      },
      "source": [
        "Nx = 154\n",
        "Ny = 154\n",
        "Nz0 = 80\n",
        "\n",
        "Nt = 8         # Number of simulated volumes\n",
        "dx = 0.0280\n",
        "dy = 0.0280\n",
        "dz = 0.0280    #VOXEL SIZE (cm) ALONG X,Y,Z \n",
        "\n",
        "Nz = Nt*Nz0    # Total number of slices"
      ],
      "execution_count": null,
      "outputs": []
    },
    {
      "cell_type": "markdown",
      "metadata": {
        "id": "iYn4MdZnKCey"
      },
      "source": [
        "## LOAD IMAGES\n"
      ]
    },
    {
      "cell_type": "code",
      "metadata": {
        "colab": {
          "base_uri": "https://localhost:8080/"
        },
        "id": "nRLL3s9gxFu5",
        "outputId": "787b5a07-27f9-46e8-b6c8-30de55c1d306"
      },
      "source": [
        "URL = 'https://tomografia.es/data/Ga68_V2_ALL.raw'\n",
        "PATH_Ga68_V2 = tf.keras.utils.get_file('Ga68_V2.raw',origin=URL)\n",
        "Ga68_V2_file = np.fromfile(PATH_Ga68_V2, dtype='float32')\n",
        "Ga68 = Ga68_V2_file.reshape((Nz,Ny,Nx))\n",
        "#Ga68 = np.concatenate((Ga68,Ga68_V2), axis=0)"
      ],
      "execution_count": null,
      "outputs": [
        {
          "output_type": "stream",
          "text": [
            "Downloading data from https://tomografia.es/data/Ga68_V2_ALL.raw\n",
            "60719104/60712960 [==============================] - 7s 0us/step\n"
          ],
          "name": "stdout"
        }
      ]
    },
    {
      "cell_type": "code",
      "metadata": {
        "colab": {
          "base_uri": "https://localhost:8080/"
        },
        "id": "Nejcy6_txFu6",
        "outputId": "068e4ea2-4da6-4684-d6c4-4efb0f394d83"
      },
      "source": [
        "URL = 'https://tomografia.es/data/F18_V2_ALL.raw'\n",
        "PATH_F18_V2 = tf.keras.utils.get_file('F18_V2_ALL.raw',origin=URL)\n",
        "F18_V2_file = np.fromfile(PATH_F18_V2, dtype='float32')\n",
        "F18 = F18_V2_file.reshape((Nz,Ny,Nx))\n",
        "#F18 = np.concatenate((F18,F18_V2), axis=0)"
      ],
      "execution_count": null,
      "outputs": [
        {
          "output_type": "stream",
          "text": [
            "Downloading data from https://tomografia.es/data/F18_V2_ALL.raw\n",
            "60719104/60712960 [==============================] - 8s 0us/step\n"
          ],
          "name": "stdout"
        }
      ]
    },
    {
      "cell_type": "markdown",
      "metadata": {
        "id": "jOLznD50IjHB"
      },
      "source": [
        "## INPUT NORMALIZATION [0..1]\n"
      ]
    },
    {
      "cell_type": "code",
      "metadata": {
        "id": "0BcWqNafIA_o"
      },
      "source": [
        "for k in range(Nz):\n",
        "    MAX = np.max(Ga68[k,:,:])  # Ga68 is the input --> Normalized to maximum = 1 each slice (both input and output)\n",
        "    F18[k,:,:] = F18[k,:,:]/MAX\n",
        "    Ga68[k,:,:] = Ga68[k,:,:]/MAX"
      ],
      "execution_count": null,
      "outputs": []
    },
    {
      "cell_type": "markdown",
      "metadata": {
        "id": "WTVo8xndK-2P"
      },
      "source": [
        "## INPUT  /  OUTPUT "
      ]
    },
    {
      "cell_type": "markdown",
      "metadata": {
        "id": "bCFYAtUhvA5s"
      },
      "source": [
        "4-D Array with shape [batch, height, width, channels]"
      ]
    },
    {
      "cell_type": "code",
      "metadata": {
        "id": "64iDIlAQxFu7"
      },
      "source": [
        "inp_np = np.expand_dims(Ga68,axis=-1) \n",
        "out_np = np.expand_dims(F18,axis=-1)"
      ],
      "execution_count": null,
      "outputs": []
    },
    {
      "cell_type": "markdown",
      "metadata": {
        "id": "SmtoZ7iXxFu7"
      },
      "source": [
        "## SPLIT DATA INTO TRAIN AND VALIDATION"
      ]
    },
    {
      "cell_type": "code",
      "metadata": {
        "id": "O36WX_UUxFu7"
      },
      "source": [
        "x_train, x_val, y_train, y_val = sk.train_test_split(inp_np, out_np, test_size=0.3, shuffle=True)"
      ],
      "execution_count": null,
      "outputs": []
    },
    {
      "cell_type": "markdown",
      "metadata": {
        "id": "GD2tF7CdxFu7"
      },
      "source": [
        "## NUMPY TO TENSOR"
      ]
    },
    {
      "cell_type": "code",
      "metadata": {
        "id": "c6Br4bETxFu7"
      },
      "source": [
        "# NN requires images with number of pixels which can be divided by 2 multiple times --> Changing from 154 to 160\n",
        "Nx2=160\n",
        "Ny2=160"
      ],
      "execution_count": null,
      "outputs": []
    },
    {
      "cell_type": "code",
      "metadata": {
        "id": "tSK-8_vQvjT0"
      },
      "source": [
        "x_train_tf = tf.convert_to_tensor(x_train, tf.float32)\n",
        "x_train_tf = tf.image.pad_to_bounding_box(x_train_tf,3,3,Nx2,Ny2)\n",
        "\n",
        "x_val_tf = tf.convert_to_tensor(x_val, tf.float32)\n",
        "x_val_tf = tf.image.pad_to_bounding_box(x_val_tf,3,3,Nx2,Ny2)\n",
        "\n",
        "y_train_tf = tf.convert_to_tensor(y_train, tf.float32)\n",
        "y_train_tf = tf.image.pad_to_bounding_box(y_train_tf,3,3,Nx2,Ny2)\n",
        "\n",
        "y_val_tf = tf.convert_to_tensor(y_val, tf.float32)\n",
        "y_val_tf = tf.image.pad_to_bounding_box(y_val_tf,3,3,Nx2,Ny2)"
      ],
      "execution_count": null,
      "outputs": []
    },
    {
      "cell_type": "markdown",
      "metadata": {
        "id": "gMrMTpfPJxnH"
      },
      "source": [
        "## SHOW EXAMPLE"
      ]
    },
    {
      "cell_type": "code",
      "metadata": {
        "colab": {
          "base_uri": "https://localhost:8080/",
          "height": 323
        },
        "id": "3ucCdMmS-5Tr",
        "outputId": "b8d64749-df96-4112-e1ab-d662414f844c"
      },
      "source": [
        "k=54    # SLICE SELECTED\n",
        "images = np.squeeze(np.concatenate((y_val_tf[k,:,:,:],x_val_tf[k,:,:,:]), axis=1))\n",
        "\n",
        "fig, ax = plt.subplots(figsize=(10,5))\n",
        "im = ax.imshow(images,cmap='hot')\n",
        "_ = fig.colorbar(im, ax=ax)\n",
        "_ = ax.set_xlabel('Sample images:  F18   /   Ga68  ', fontsize=24)"
      ],
      "execution_count": null,
      "outputs": [
        {
          "output_type": "display_data",
          "data": {
            "image/png": "[encoded data removed]",
            "text/plain": [
              "<Figure size 720x360 with 2 Axes>"
            ]
          },
          "metadata": {
            "tags": [],
            "needs_background": "light"
          }
        }
      ]
    },
    {
      "cell_type": "markdown",
      "metadata": {
        "id": "Ax5sV7EAoxLE"
      },
      "source": [
        "# U-NET"
      ]
    },
    {
      "cell_type": "code",
      "metadata": {
        "colab": {
          "base_uri": "https://localhost:8080/"
        },
        "id": "cNtr5N5JooyY",
        "outputId": "df4b0077-ddeb-4bcf-dfc4-3b7089a1674b"
      },
      "source": [
        "from keras_unet.models import custom_unet\n",
        "from keras_unet.utils import get_augmented"
      ],
      "execution_count": null,
      "outputs": [
        {
          "output_type": "stream",
          "text": [
            "-----------------------------------------\n",
            "keras-unet init: TF version is >= 2.0.0 - using `tf.keras` instead of `Keras`\n",
            "-----------------------------------------\n"
          ],
          "name": "stdout"
        }
      ]
    },
    {
      "cell_type": "markdown",
      "metadata": {
        "id": "ZoYLFquoxFu8"
      },
      "source": [
        "### DATA AUGMENTATION"
      ]
    },
    {
      "cell_type": "code",
      "metadata": {
        "id": "5l2DdYdSb8gu"
      },
      "source": [
        "train_gen = get_augmented(x_train_tf, y_train_tf, batch_size=24,\n",
        "    data_gen_args = dict(width_shift_range=0.3,height_shift_range=0.3,rotation_range=90.0,\n",
        "        horizontal_flip=True,vertical_flip=True,fill_mode='nearest'))"
      ],
      "execution_count": null,
      "outputs": []
    },
    {
      "cell_type": "markdown",
      "metadata": {
        "id": "SLVLtYftxFu8"
      },
      "source": [
        "### MODEL DEFINITION"
      ]
    },
    {
      "cell_type": "code",
      "metadata": {
        "id": "nBXbY3JIgSH7"
      },
      "source": [
        "model = custom_unet(\n",
        "    input_shape=(Nx2, Ny2, x_train_tf.shape[3]),\n",
        "    use_batch_norm=True,\n",
        "    activation='swish',   #SWISH PROVIDES BETTER RESULTS THAN RELU\n",
        "    filters=64,\n",
        "    num_layers=4,\n",
        "    use_attention=True,\n",
        "    dropout=0.2,\n",
        "    output_activation='relu')  #RELU IN THE OUTPUT (POSITIVE BUT NOT LIMITED TO [0..1])"
      ],
      "execution_count": null,
      "outputs": []
    },
    {
      "cell_type": "markdown",
      "metadata": {
        "id": "7RnvT9ypxFu9"
      },
      "source": [
        "### NEW OPTIMIZERS "
      ]
    },
    {
      "cell_type": "code",
      "metadata": {
        "id": "8ymejVS5xFu9"
      },
      "source": [
        "!pip install -q tfa-nightly\n",
        "import tensorflow_addons as tfa\n",
        "opt = tfa.optimizers.RectifiedAdam(lr=1e-3)\n",
        "opt = tfa.optimizers.Lookahead(opt)\n",
        "\n",
        "#(Alternative option if the previous section does not work):\n",
        "#opt = tf.keras.optimizers.Adam(learning_rate=0.001, beta_1=0.9, beta_2=0.999, epsilon=1e-07, amsgrad=False, name='Adam')"
      ],
      "execution_count": null,
      "outputs": []
    },
    {
      "cell_type": "code",
      "metadata": {
        "id": "Pgp7KZh3cLbl"
      },
      "source": [
        "model.compile(optimizer=opt,loss='MeanAbsoluteError')   #l1 NORM"
      ],
      "execution_count": null,
      "outputs": []
    },
    {
      "cell_type": "code",
      "metadata": {
        "colab": {
          "base_uri": "https://localhost:8080/"
        },
        "id": "htYKGncpcOLe",
        "outputId": "32e5207c-6a2d-483b-f8e1-414fbe348c20"
      },
      "source": [
        "history = model.fit(train_gen,steps_per_epoch=100, epochs=50, validation_data=(x_val_tf, y_val_tf))  "
      ],
      "execution_count": null,
      "outputs": [
        {
          "output_type": "stream",
          "text": [
            "Epoch 1/5\n",
            "240/240 [==============================] - 65s 201ms/step - loss: 0.0090 - val_loss: 0.0083\n",
            "Epoch 2/5\n",
            "240/240 [==============================] - 49s 203ms/step - loss: 0.0089 - val_loss: 0.0071\n",
            "Epoch 3/5\n",
            "240/240 [==============================] - 49s 205ms/step - loss: 0.0089 - val_loss: 0.0068\n",
            "Epoch 4/5\n",
            "240/240 [==============================] - 50s 206ms/step - loss: 0.0086 - val_loss: 0.0070\n",
            "Epoch 5/5\n",
            "240/240 [==============================] - 50s 207ms/step - loss: 0.0088 - val_loss: 0.0068\n"
          ],
          "name": "stdout"
        }
      ]
    },
    {
      "cell_type": "markdown",
      "metadata": {
        "id": "8EQ-qN5oxFu-"
      },
      "source": [
        "### DISPLAY OF RESULTS"
      ]
    },
    {
      "cell_type": "code",
      "metadata": {
        "colab": {
          "base_uri": "https://localhost:8080/",
          "height": 392
        },
        "id": "3Oje3cWlptpC",
        "outputId": "8c1f9131-5808-4008-969d-1ca257b26c4d"
      },
      "source": [
        "img_index = 54\n",
        "test = np.expand_dims(x_val_tf[img_index,:,:,:],axis=0)\n",
        "estim = model.predict(test)\n",
        "Ga68_img = np.squeeze(test[:,:,:,0])\n",
        "estim_img = np.squeeze(estim[:,:,:,0])\n",
        "F18_img = np.squeeze(y_val_tf[img_index,:,:,:])\n",
        "\n",
        "plt.figure(figsize=(20, 10))\n",
        "plt.subplot(1,3,1)\n",
        "plt.imshow(Ga68_img, cmap=plt.cm.bone)\n",
        "plt.axis('off')\n",
        "plt.title('Ga68 (Input)')\n",
        "\n",
        "plt.subplot(1,3,2)\n",
        "plt.imshow(estim_img, cmap=plt.cm.bone)\n",
        "plt.axis('off')\n",
        "plt.title('Estimated: 68Ga with deepPRC')\n",
        "\n",
        "plt.subplot(1,3,3)\n",
        "plt.imshow(F18_img, cmap=plt.cm.bone)\n",
        "plt.axis('off')\n",
        "plt.title('F18 (Reference)')"
      ],
      "execution_count": null,
      "outputs": [
        {
          "output_type": "execute_result",
          "data": {
            "text/plain": [
              "Text(0.5, 1.0, 'F18')"
            ]
          },
          "metadata": {
            "tags": []
          },
          "execution_count": 44
        },
        {
          "output_type": "display_data",
          "data": {
            "image/png": "[encoded data removed]",
            "text/plain": [
              "<Figure size 1440x720 with 3 Axes>"
            ]
          },
          "metadata": {
            "tags": [],
            "needs_background": "light"
          }
        }
      ]
    },
    {
      "cell_type": "code",
      "metadata": {
        "colab": {
          "base_uri": "https://localhost:8080/",
          "height": 324
        },
        "id": "n3-84riocQMA",
        "outputId": "25007b5d-8e08-411c-9823-39f4ccb7961c"
      },
      "source": [
        "fig, ax = plt.subplots(figsize=(20,5))\n",
        "\n",
        "loss = np.array(history.history['loss'])\n",
        "var_loss = np.array(history.history['val_loss'])\n",
        "ax.plot(20*np.log(1+loss), 'orange', label='Training Loss')\n",
        "ax.plot(20*np.log(1+var_loss), 'green', label='Validation loss')\n",
        "ax.set_ylim([0, 1])\n",
        "ax.legend()\n",
        "fig.show()"
      ],
      "execution_count": null,
      "outputs": [
        {
          "output_type": "display_data",
          "data": {
            "image/png": "[encoded data removed]",
            "text/plain": [
              "<Figure size 1440x360 with 1 Axes>"
            ]
          },
          "metadata": {
            "tags": [],
            "needs_background": "light"
          }
        }
      ]
    },
    {
      "cell_type": "markdown",
      "metadata": {
        "id": "xw0NzzXixFu_"
      },
      "source": [
        "## SAVE LOSS HISTORY"
      ]
    },
    {
      "cell_type": "code",
      "metadata": {
        "id": "jxp-MQ39xFu_"
      },
      "source": [
        "loss = np.array(history.history['loss'])\n",
        "var_loss = np.array(history.history['val_loss'])\n",
        "loss_info = np.transpose(100*np.array([loss,var_loss]))\n",
        "np.savetxt( \"LOSS.csv\", loss_info, fmt='%.3f', delimiter='\\t')"
      ],
      "execution_count": null,
      "outputs": []
    },
    {
      "cell_type": "markdown",
      "metadata": {
        "id": "UsSk17Bmc8pk"
      },
      "source": [
        "## SAVE MODEL"
      ]
    },
    {
      "cell_type": "code",
      "metadata": {
        "id": "7RuWUclpzPN9"
      },
      "source": [
        "# Save the entire model as a HDF5 file.\n",
        "model.save('deepPRC.h5') "
      ],
      "execution_count": null,
      "outputs": []
    },
    {
      "cell_type": "markdown",
      "metadata": {
        "id": "clrRjqWldFlL"
      },
      "source": [
        "## LOAD MODEL"
      ]
    },
    {
      "cell_type": "code",
      "metadata": {
        "id": "HHUsmcTHgM36"
      },
      "source": [
        "new_model = tf.keras.models.load_model('deepPRC.h5',compile=False)   # LOADING KERAS MODEL"
      ],
      "execution_count": null,
      "outputs": []
    },
    {
      "cell_type": "markdown",
      "metadata": {
        "id": "PIDaVwijxFvA"
      },
      "source": [
        "## EXAMPLE OF APPLICATION TO A SPECIFIC VOLUME (TEST)  We use the initial case (not used for training/validation) "
      ]
    },
    {
      "cell_type": "code",
      "metadata": {
        "id": "FzEeTJxAxFvA"
      },
      "source": [
        "test_np = np.zeros([Nz0,Nx,Ny])\n",
        "maximo = np.zeros([Nz0])\n",
        "for k in range(Nz0): \n",
        "    MAX = np.max(Ga68[k,:,:])  # Ga68 is the input --> Normalized to maximum = 1 each slice (both input and output)\n",
        "    Ga68[k,:,:] = Ga68[k,:,:]/MAX\n",
        "    maximo[k]=MAX    #We keep the normalization values to restore them at the end\n",
        "\n",
        "test_np = np.expand_dims(test_np,axis=-1) \n",
        "test_tf = tf.convert_to_tensor(test_np, tf.float32)\n",
        "test_tf = tf.image.pad_to_bounding_box(test_tf,3,3,Nx2,Ny2) #Padding to make the size easily divisible by 2\n",
        "#test_tf2 = 2.0*case_tf2-1.0"
      ],
      "execution_count": null,
      "outputs": []
    },
    {
      "cell_type": "code",
      "metadata": {
        "colab": {
          "base_uri": "https://localhost:8080/"
        },
        "id": "c2CzhO1rddhA",
        "outputId": "4ba4f16e-cc80-4fd9-97bd-8a5262a5210d"
      },
      "source": [
        "import time\n",
        "t0 = time.time()\n",
        "estim_img = np.zeros((Nz0,Nx2,Ny2))\n",
        "for k in range(Nz0):\n",
        "    test = np.expand_dims(test_tf[k,:,:,:],axis=0)\n",
        "    estim = new_model.predict(test)\n",
        "    estim_img[k,:,:] = np.squeeze(estim)*maximo[k]\n",
        "    \n",
        "print(\"Time required for the whole PRC of the Test Volume = \",time.time()-t0,\" seconds\")  # TIME REQUIRED"
      ],
      "execution_count": null,
      "outputs": [
        {
          "output_type": "stream",
          "text": [
            "Time required for the whole PRC of the Test Volume =  3.679273843765259  seconds\n"
          ],
          "name": "stdout"
        }
      ]
    },
    {
      "cell_type": "code",
      "metadata": {
        "id": "3T7CrypdxFvA"
      },
      "source": [
        "d = np.array(Ga68[0:Nz0,:,:],'float32')\n",
        "f=open(\"Image_Ga68.raw\",\"wb\")\n",
        "f.write(d)\n",
        "f.close()"
      ],
      "execution_count": null,
      "outputs": []
    },
    {
      "cell_type": "code",
      "metadata": {
        "id": "Jva2ayUPxFvB"
      },
      "source": [
        "d = np.array(F18[0:Nz0,:,:],'float32')\n",
        "f=open(\"Image_F18.raw\",\"wb\")\n",
        "f.write(d)\n",
        "f.close()"
      ],
      "execution_count": null,
      "outputs": []
    },
    {
      "cell_type": "code",
      "metadata": {
        "id": "onpIa4p6xFvB"
      },
      "source": [
        "d = np.array(estim_img[0:Nz0,3:157,3:157],'float32')\n",
        "f=open(\"Image_Ga68_deepPRC.raw\",\"wb\")\n",
        "f.write(d)\n",
        "f.close()"
      ],
      "execution_count": null,
      "outputs": []
    }
  ]
}